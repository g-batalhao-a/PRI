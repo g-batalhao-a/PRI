{
 "cells": [
  {
   "cell_type": "markdown",
   "metadata": {},
   "source": [
    "# Queries\n",
    "\n",
    "- \"Apple pie\"\n",
    "- \"Chicken\" in the African category\n",
    "- \"Easy bread\" less than 2h\n",
    "- \"Pasta bolognese\"\n",
    "- \"Oatmeal\"\n",
    "\n",
    "Prioritize doing 3 of the queries first and running test models, then add more if possible.\n",
    "\n",
    "# Scoring\n",
    "\n",
    "Human classification of top 100 results obtained using the standard system (LTR-less). Scoring is done on a numeric scale from 0-5.\n",
    "\n",
    "## Criteria\n",
    "\n",
    "The attribution of a given score is a bit subjective but tries to follow the following guidelines:\n",
    "\n",
    "0. A document that does not match the query.\n",
    "1. A document that vaguely matches the query, is very incomplete (missing important fields, like instructions) and has no reviews. Or has very negative reviews.\n",
    "2. A document that partially matches the query, is incomplete and has no reviews. Or a document with negative reviews.\n",
    "3. A document that matches the query semantically, is reasonably complete (may miss more than two fields) and has at least one positive review.\n",
    "4. A document that perfectly or almost perfectly matches the query semantically, is complete or missing just one of the fields and has a good number of positive reviews (5 to 20).\n",
    "5. A document that perfectly matches the query semantically, is complete (the recipe has a full ingredient list, steps and cook time/nutritional information) and has a lot of positive reviews (more than 20)."
   ]
  },
  {
   "cell_type": "code",
   "execution_count": 6,
   "metadata": {},
   "outputs": [
    {
     "name": "stdout",
     "output_type": "stream",
     "text": [
      "http://localhost:8983/solr/recipes/select?rows=100&q.op=AND&q=apple pie&qf=Name^5 Description Ingredients^2 Keywords^2 Instructions Reviews^0.5 AuthorName^0.2&wt=json&defType=edismax&fl=id,RecipeId,score,[features]&rq=%7B!ltr%20model%3DmyModel%20efi.text%3D%27%24%7Bquery%7D%27%7D&fq=\n"
     ]
    }
   ],
   "source": [
    "import urllib.parse as urlp\n",
    "\n",
    "URL = \"http://localhost:8983/solr/recipes/select\"\n",
    "URL += \"?rows=100\"\n",
    "URL += \"&q.op=AND\"\n",
    "URL += \"&q={q}\"\n",
    "URL += \"&qf=\" + \"Name^5 Description Ingredients^2 Keywords^2 Instructions Reviews^0.5 AuthorName^0.2\"\n",
    "URL += \"&wt=json\"\n",
    "URL += \"&defType=edismax\"\n",
    "URL += \"&fl=id,RecipeId,score,[features]\"\n",
    "URL += \"&rq=%7B!ltr%20model%3DmyModel%20efi.text%3D%27%24%7Bquery%7D%27%7D\"\n",
    "URL += \"&fq={fq}\"\n",
    "\n",
    "query = [\"apple pie\", \"chicken\", \"easy bread\", \"pasta bolognese\", \"oatmeal\"]\n",
    "facet = [\"\", \"Category_Facet:African\", \"\", \"\", \"\"]\n",
    "urls = [URL.format(q=query[i], fq=facet[i]) for i in range(len(query))]\n"
   ]
  },
  {
   "cell_type": "code",
   "execution_count": 7,
   "metadata": {},
   "outputs": [],
   "source": [
    "import requests\n",
    "import simplejson\n",
    "import pandas as pd\n",
    "\n",
    "for (idx, url) in enumerate(urls):\n",
    "    response = requests.request(\"GET\", url)\n",
    "    json = simplejson.loads(response.text)\n",
    "\n",
    "    for doc in json[\"response\"][\"docs\"]:\n",
    "        doc[\"URL\"] = \"http://localhost:3000/recipe/{0}\".format(doc[\"RecipeId\"]) \n",
    "        doc[\"query\"] = query[idx]\n",
    "        doc[\"facet\"] = facet[idx]\n",
    "    \n",
    "    df = pd.DataFrame(json[\"response\"][\"docs\"])\n",
    "    df.to_csv(\"queries/query{0}_results.csv\".format(idx+1), index=False)"
   ]
  },
  {
   "cell_type": "markdown",
   "metadata": {},
   "source": [
    "# Modelling\n",
    "\n",
    "Solr's LTR implementation supports two different kinds of models: Linear and Tree Based.\n",
    "\n",
    "There are various algorithms that may be used in order to create these models. We will demonstrate the use of two, one for each type:\n",
    "\n",
    "- A Linear Model using Support Vector Machines\n",
    "- A Neural Network model built using RankNet\n",
    "\n",
    "We will use SciKit Learn's SVM implementation and a RankNet implementation built into Keras."
   ]
  },
  {
   "cell_type": "code",
   "execution_count": 62,
   "metadata": {},
   "outputs": [],
   "source": [
    "from sklearn import svm\n",
    "from sklearn.model_selection import GridSearchCV, train_test_split\n",
    "from sklearn.metrics import classification_report, confusion_matrix\n",
    "import pandas as pd\n",
    "import numpy as np\n",
    "import requests\n",
    "import simplejson\n",
    "import glob\n",
    "\n",
    "result_files = glob.glob(\"queries/*_results.csv\")\n",
    "scores_files = glob.glob(\"queries/*_scores.csv\")\n",
    "\n",
    "inputs = pd.concat((pd.read_csv(file) for file in result_files), ignore_index=True)\n",
    "scores = pd.concat((pd.read_csv(file) for file in scores_files), ignore_index=True)\n",
    "\n",
    "\n",
    "X = []\n",
    "Y = [entry.score for entry in scores.itertuples()]\n"
   ]
  },
  {
   "cell_type": "code",
   "execution_count": 63,
   "metadata": {},
   "outputs": [],
   "source": [
    "\n",
    "for entry in inputs.itertuples():\n",
    "    req_url = \"http://localhost:8983/solr/recipes/select?rows=100&q.op=AND&q={q}&qf=Name^5%20Description%20Ingredients^2%20Keywords^2%20Instructions%20Reviews^0.5%20AuthorName^0.2&wt=json&defType=edismax&fl=[features]&fq={fq}&rq={rq}\"\n",
    "    facet = entry.facet\n",
    "    if pd.isna(facet):\n",
    "        facet = \"\"\n",
    "    response = requests.request(\"GET\", req_url.format(q=entry.query, fq=f\"RecipeId:{entry.RecipeId} {facet}\", rq=f\"{{!ltr model=myModel efi.text='{entry.query}'}}\"))\n",
    "    json = simplejson.loads(response.text)\n",
    "    X.append([float(feature.split(\"=\")[1]) for feature in json[\"response\"][\"docs\"][0][\"[features]\"].split(\",\")])\n"
   ]
  },
  {
   "cell_type": "code",
   "execution_count": 64,
   "metadata": {},
   "outputs": [],
   "source": [
    "(train_x,\n",
    " test_x,\n",
    " train_y,\n",
    " test_y) = train_test_split(X, Y, test_size=0.25, random_state=1, stratify=Y)\n",
    "\n",
    " "
   ]
  },
  {
   "cell_type": "code",
   "execution_count": 65,
   "metadata": {},
   "outputs": [
    {
     "name": "stdout",
     "output_type": "stream",
     "text": [
      "              precision    recall  f1-score   support\n",
      "\n",
      "           0       1.00      0.11      0.20         9\n",
      "           1       0.00      0.00      0.00        10\n",
      "           2       0.37      0.86      0.52        42\n",
      "           3       0.39      0.20      0.26        35\n",
      "           4       0.00      0.00      0.00        14\n",
      "           5       0.00      0.00      0.00         6\n",
      "\n",
      "    accuracy                           0.38       116\n",
      "   macro avg       0.29      0.19      0.16       116\n",
      "weighted avg       0.33      0.38      0.28       116\n",
      "\n"
     ]
    },
    {
     "name": "stderr",
     "output_type": "stream",
     "text": [
      "/home/antonio/.asdf/installs/python/anaconda3-2020.11/lib/python3.8/site-packages/sklearn/svm/_base.py:976: ConvergenceWarning: Liblinear failed to converge, increase the number of iterations.\n",
      "  warnings.warn(\"Liblinear failed to converge, increase \"\n",
      "/home/antonio/.asdf/installs/python/anaconda3-2020.11/lib/python3.8/site-packages/sklearn/metrics/_classification.py:1221: UndefinedMetricWarning: Precision and F-score are ill-defined and being set to 0.0 in labels with no predicted samples. Use `zero_division` parameter to control this behavior.\n",
      "  _warn_prf(average, modifier, msg_start, len(result))\n"
     ]
    }
   ],
   "source": [
    "linearSVM = svm.LinearSVC()\n",
    "\n",
    "linearSVM.fit(train_x, train_y)\n",
    "\n",
    "pred = linearSVM.predict(test_x)\n",
    "\n",
    "print(classification_report(test_y, pred))"
   ]
  }
 ],
 "metadata": {
  "interpreter": {
   "hash": "2a6c239678afad6960c456aefc8713a9d49e3f9a7a9bb744edb151330f0438dc"
  },
  "kernelspec": {
   "display_name": "",
   "language": "python",
   "name": "python3"
  },
  "language_info": {
   "codemirror_mode": {
    "name": "ipython",
    "version": 3
   },
   "file_extension": ".py",
   "mimetype": "text/x-python",
   "name": "python",
   "nbconvert_exporter": "python",
   "pygments_lexer": "ipython3",
   "version": "3.8.5"
  },
  "orig_nbformat": 4
 },
 "nbformat": 4,
 "nbformat_minor": 2
}
