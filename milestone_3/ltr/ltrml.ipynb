{
 "cells": [
  {
   "cell_type": "markdown",
   "metadata": {},
   "source": [
    "# Queries\n",
    "\n",
    "- \"Chicken\" in the African category\n",
    "- \"Apple pie\"\n",
    "- \"Easy bread\" less than 2h\n",
    "- \"Pasta bolognese\"\n",
    "- \"Oatmeal\"\n",
    "\n",
    "Prioritize doing 3 of the queries first and running test models, then add more if possible."
   ]
  },
  {
   "cell_type": "code",
   "execution_count": null,
   "metadata": {},
   "outputs": [],
   "source": []
  }
 ],
 "metadata": {
  "language_info": {
   "name": "python"
  },
  "orig_nbformat": 4
 },
 "nbformat": 4,
 "nbformat_minor": 2
}
