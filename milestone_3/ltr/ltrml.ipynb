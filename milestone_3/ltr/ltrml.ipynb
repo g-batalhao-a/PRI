{
 "cells": [
  {
   "cell_type": "markdown",
   "metadata": {},
   "source": [
    "# Queries\n",
    "\n",
    "- \"Apple pie\"\n",
    "- \"Chicken\" in the African category\n",
    "- \"Easy bread\" less than 2h\n",
    "- \"Pasta bolognese\"\n",
    "- \"Oatmeal\"\n",
    "\n",
    "Prioritize doing 3 of the queries first and running test models, then add more if possible.\n",
    "\n",
    "# Scoring\n",
    "\n",
    "Human classification of top 100 results obtained using the standard system (LTR-less). Scoring is done on a numeric scale from 0-5.\n",
    "\n",
    "## Criteria\n",
    "\n",
    "The attribution of a given score is a bit subjective but tries to follow the following guidelines:\n",
    "\n",
    "0. A document that does not match the query.\n",
    "1. A document that vaguely matches the query, is very incomplete (missing important fields, like instructions) and has no reviews. Or has very negative reviews.\n",
    "2. A document that partially matches the query, is incomplete and has no reviews. Or a document with negative reviews.\n",
    "3. A document that matches the query semantically, is reasonably complete (may miss more than two fields) and has at least one positive review.\n",
    "4. A document that perfectly or almost perfectly matches the query semantically, is complete or missing just one of the fields and has a good number of positive reviews (5 to 20).\n",
    "5. A document that perfectly matches the query semantically, is complete (the recipe has a full ingredient list, steps and cook time/nutritional information) and has a lot of positive reviews (more than 20)."
   ]
  },
  {
   "cell_type": "code",
   "execution_count": 3,
   "metadata": {},
   "outputs": [],
   "source": [
    "import urllib.parse as urlp\n",
    "\n",
    "URL = \"http://localhost:8983/solr/recipes/select\"\n",
    "URL += \"?rows=100\"\n",
    "URL += \"&q.op=AND\"\n",
    "URL += \"&q={q}\"\n",
    "URL += \"&qf=\" + \"Name^5 Description Ingredients^2 Keywords^2 Instructions Reviews^0.5 AuthorName^0.2\"\n",
    "URL += \"&wt=json\"\n",
    "URL += \"&defType=edismax\"\n",
    "URL += \"&fl=id,RecipeId,score,[features]\"\n",
    "URL += \"&fq={fq}\"\n",
    "\n",
    "query = [\"apple pie\", \"chicken\", \"easy bread\", \"pasta bolognese\", \"oatmeal\"]\n",
    "facet = [\"\", \"Category_Facet:African\", \"\", \"\", \"\"]\n",
    "urls = [URL.format(q=query[i], fq=facet[i]) for i in range(len(query))]"
   ]
  },
  {
   "cell_type": "code",
   "execution_count": 7,
   "metadata": {},
   "outputs": [],
   "source": [
    "import requests\n",
    "import simplejson\n",
    "import pandas as pd\n",
    "\n",
    "for (idx, url) in enumerate(urls):\n",
    "    response = requests.request(\"GET\", url)\n",
    "    json = simplejson.loads(response.text)\n",
    "\n",
    "    for doc in json[\"response\"][\"docs\"]:\n",
    "        doc[\"URL\"] = \"http://localhost:3000/recipe/{0}\".format(doc[\"RecipeId\"]) \n",
    "        doc[\"query\"] = query[idx]\n",
    "        doc[\"facet\"] = facet[idx]\n",
    "    \n",
    "    df = pd.DataFrame(json[\"response\"][\"docs\"])\n",
    "    df.to_csv(\"queries/query{0}_results.csv\".format(idx+1), index=False)"
   ]
  }
 ],
 "metadata": {
  "interpreter": {
   "hash": "2a6c239678afad6960c456aefc8713a9d49e3f9a7a9bb744edb151330f0438dc"
  },
  "kernelspec": {
   "display_name": "",
   "language": "python",
   "name": "python3"
  },
  "language_info": {
   "codemirror_mode": {
    "name": "ipython",
    "version": 3
   },
   "file_extension": ".py",
   "mimetype": "text/x-python",
   "name": "python",
   "nbconvert_exporter": "python",
   "pygments_lexer": "ipython3",
   "version": "3.8.5"
  },
  "orig_nbformat": 4
 },
 "nbformat": 4,
 "nbformat_minor": 2
}
